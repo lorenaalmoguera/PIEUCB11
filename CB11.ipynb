{
 "cells": [
  {
   "cell_type": "markdown",
   "id": "93ddb0a7-41bc-4988-ba23-27350bc09e84",
   "metadata": {},
   "source": [
    "# **CB11:** Escribe un programa que convierta una temperatura ingresada en grados Celsius a grados Fahrenheit y viceversa."
   ]
  },
  {
   "cell_type": "markdown",
   "id": "b359de38-755a-459f-8009-d11e49141164",
   "metadata": {},
   "source": [
    "Los enlaces se visualizarán de la siguiente manera: <span style=\"color: lightblue; text-decoration:underline;\">**ENLACE**</span>.</br>\n",
    "Los comandos / datos importantes a notar se visualizarán de la siguiente manera: <span style=\"color: green;\">**COMANDO**</span>."
   ]
  },
  {
   "cell_type": "markdown",
   "id": "571e7a3f-0e0a-4579-9d62-b1b60b1ed5b6",
   "metadata": {},
   "source": [
    "### INTRODUCCIÓN \n",
    "\n",
    "Para la realización de este ejercicio debemos primero tener claras las siguientes fórmulas:\n",
    "\n",
    "**Conversión de Fahrenheit a celsius**\n",
    "- Temperature in degrees Celsius (°C) = (Temperature in degrees Fahrenheit (°F) - 32) * 5/9</br>\n",
    "\n",
    "**Conversión de Celsius a Fahrenheit**</br>\n",
    "- Temperature in degrees Fahrenheit (°F) = (Temperature in degrees Celsius (°C) * 9/5) + 32</br>\n",
    "\n",
    "Para comprobar que la conversión se ha realizado de manera correcta, se recomienda acceder al siguiente enlace que contiene una calculadora para cambiar de °C a °F y de °F a °C. [<span style=\"color: lightblue; text-decoration:underline;\">__CALCULADORA__</span>](https://www.calculatorsoup.com/calculators/conversions/celsius-to-fahrenheit.php)</br>\n"
   ]
  },
  {
   "cell_type": "markdown",
   "id": "d063c2dc-7a85-48c8-92b3-329e2eff1af0",
   "metadata": {},
   "source": [
    "### ESTRUCTURA DEL EJERCICIO\n",
    "\n",
    "Para la realización tendremos que\n",
    "1. Controlar la opción seleccionada por el usuario\n",
    "2. Definir la opción de conversión a FAHRENHEIT\n",
    "3. Definir la opción de conversión a CELSIUS\n",
    "\n",
    "Por lo tanto, lo suyo será realizar una estructura IF - ELSE.</br>\n",
    "\n",
    "Además, definirémos las variables...</br>\n",
    "- <span style=\"color: green;\">**opcion**</span> (está será la opción seleccionada por el usuario)\n",
    "- <span style=\"color: green;\">**celsius**</span> (aquí guardaremos la temperatura que queremos pasar a fahrenheit)\n",
    "- <span style=\"color: green;\">**fahrenheit**</span> (aquí guardaremos la temperatura que queremos pasar a celsius)\n",
    "- <span style=\"color: green;\">**convert_to_fahrenheit**</span>, <span style=\"color: green;\">**convert_to_celsius**</span>"
   ]
  },
  {
   "cell_type": "code",
   "execution_count": 21,
   "id": "ee04f91e-474f-4f60-89f1-82863445741d",
   "metadata": {},
   "outputs": [
    {
     "name": "stdout",
     "output_type": "stream",
     "text": [
      "En esta opción convertiremos a CELSIUS \n"
     ]
    }
   ],
   "source": [
    "#include <iostream>\n",
    "    // Define las temperaturas aquí\n",
    "  float celsius = 25.0;  // Ejemplo: 25 grados Celsius\n",
    "  float fahrenheit = 77.0; // Ejemplo: 77 grados Fahrenheit\n",
    "  float convert_to_fahrenheit, convert_to_celsius;\n",
    "\n",
    "  // Selecciona la opción de conversión (1 para Celsius a Fahrenheit, 2 para Fahrenheit a Celsius)\n",
    "  int opcion = 2;  // Cambia a 2 para convertir de Fahrenheit a Celsius\n",
    "\n",
    "  if (opcion == 1) {\n",
    "    std::cout << \"En esta opción convertiremos a FAHRENHEIT \\n\";\n",
    "  } else if (opcion == 2) {\n",
    "    std:: cout << \"En esta opción convertiremos a CELSIUS \\n\";\n",
    "  } else {\n",
    "    std::cout << \"Opción no válida.\\n\";\n",
    "  }"
   ]
  },
  {
   "cell_type": "markdown",
   "id": "4f3b5dd2-a784-4bf3-a386-49871fd20f2c",
   "metadata": {},
   "source": [
    "Tras haber definido esta estructura simplemente tendremos que aplicar la fórmula para convertir a celsius y a fahrenheit es decir... </br>\n",
    "\n",
    "**Para la opción 1**\n",
    "- Temperature in degrees Fahrenheit (°F) = (Temperature in degrees Celsius (°C) * 9/5) + 32\n",
    "\n",
    "Por lo tanto será guardar el valor en la variable <span style=\"color: green;\">**convert_to_fahrenheit**</span> y por lo tanto...</br>\n",
    "```convert_to_fahrenheit = (celsius * 9.0 / 5.0) + 32.0;```\n",
    "\n",
    "**Para la opción 2**\n",
    "- Temperature in degrees Celsius (°C) = (Temperature in degrees Fahrenheit (°F) - 32) * 5/9\n",
    "\n",
    "Por lo tanto será guardar el valor en la variable <span style=\"color: green;\">**convert_to_celsius**</span> y por lo tanto...</br>\n",
    "```convert_to_celsius = (fahrenheit - 32.0) * (5.0 / 9.0)```</br>\n"
   ]
  },
  {
   "cell_type": "code",
   "execution_count": 23,
   "id": "a42541cb-5378-45c4-8c80-554b90fcb533",
   "metadata": {},
   "outputs": [
    {
     "name": "stdout",
     "output_type": "stream",
     "text": [
      "25°C es equivalente a 77°F\n"
     ]
    }
   ],
   "source": [
    "#include <iostream>\n",
    "    // Define las temperaturas aquí\n",
    "  float celsius = 25.0;  // Ejemplo: 25 grados Celsius\n",
    "  float fahrenheit = 77.0; // Ejemplo: 77 grados Fahrenheit\n",
    "  float convert_to_fahrenheit, convert_to_celsius;\n",
    "\n",
    "  // Selecciona la opción de conversión (1 para Celsius a Fahrenheit, 2 para Fahrenheit a Celsius)\n",
    "  int opcion = 1;  // Cambia a 2 para convertir de Fahrenheit a Celsius\n",
    "\n",
    "  if (opcion == 1) {\n",
    "    convert_to_fahrenheit = (celsius * 9.0 / 5.0) + 32.0;\n",
    "    std::cout << celsius << \"°C es equivalente a \" << convert_to_fahrenheit << \"°F\\n\";\n",
    "  } else if (opcion == 2) {\n",
    "    convert_to_celsius = (fahrenheit - 32.0) * (5.0 / 9.0);\n",
    "    std::cout << fahrenheit << \"°F es equivalente a \" << convert_to_celsius << \"°C\\n\";\n",
    "  } else {\n",
    "    std::cout << \"Opción no válida.\\n\";\n",
    "  }\n"
   ]
  }
 ],
 "metadata": {
  "kernelspec": {
   "display_name": "C++17",
   "language": "C++17",
   "name": "xcpp17"
  },
  "language_info": {
   "codemirror_mode": "text/x-c++src",
   "file_extension": ".cpp",
   "mimetype": "text/x-c++src",
   "name": "c++",
   "version": "17"
  }
 },
 "nbformat": 4,
 "nbformat_minor": 5
}
